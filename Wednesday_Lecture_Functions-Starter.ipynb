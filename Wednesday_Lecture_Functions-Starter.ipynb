{
 "cells": [
  {
   "cell_type": "markdown",
   "metadata": {},
   "source": [
    "# Functions"
   ]
  },
  {
   "cell_type": "markdown",
   "metadata": {},
   "source": [
    "#### Warm up"
   ]
  },
  {
   "cell_type": "code",
   "execution_count": 10,
   "metadata": {},
   "outputs": [
    {
     "name": "stdout",
     "output_type": "stream",
     "text": [
      "['The Beatles', 'The Rolling Stones', 'The Eagles', 'The Temptations']\n"
     ]
    }
   ],
   "source": [
    "bands = ['  thE beATles   ', 'tHe RoLLing sTones..', '.,tHe eagles', 'the tEMptationS  ']\n",
    "\n",
    "# for band in bands:\n",
    "#     output.append(band.strip(\"., \").title())\n",
    "# print(output)\n",
    "\n",
    "bands = [band.strip(\" .,\").title() for band in bands]\n",
    "print(bands)\n",
    "\n"
   ]
  },
  {
   "cell_type": "code",
   "execution_count": 11,
   "metadata": {},
   "outputs": [],
   "source": [
    "# Output: ['The Beatles', 'The Rolling Stones', etc]"
   ]
  },
  {
   "cell_type": "code",
   "execution_count": 12,
   "metadata": {},
   "outputs": [
    {
     "name": "stdout",
     "output_type": "stream",
     "text": [
      "['The Who', 'The Doors', 'The Band', 'The Kinks']\n"
     ]
    }
   ],
   "source": [
    "bands2 = [' The whO  ', '  .   , tHE dOORS  ', ' the bAnd   ', '...,  THE kINks    ']\n",
    "\n",
    "bands2 = [band.strip(\" .,\").title() for band in bands2]\n",
    "print(bands2)"
   ]
  },
  {
   "cell_type": "markdown",
   "metadata": {},
   "source": [
    "## Functions"
   ]
  },
  {
   "cell_type": "markdown",
   "metadata": {},
   "source": [
    "##### User-Defined vs. Built-In Function"
   ]
  },
  {
   "cell_type": "code",
   "execution_count": 13,
   "metadata": {},
   "outputs": [
    {
     "name": "stdout",
     "output_type": "stream",
     "text": [
      "<built-in function max>\n",
      "Help on built-in function max in module builtins:\n",
      "\n",
      "max(...)\n",
      "    max(iterable, *[, default=obj, key=func]) -> value\n",
      "    max(arg1, arg2, *args, *[, key=func]) -> value\n",
      "\n",
      "    With a single iterable argument, return its biggest item. The\n",
      "    default keyword-only argument specifies an object to return if\n",
      "    the provided iterable is empty.\n",
      "    With two or more arguments, return the largest argument.\n",
      "\n"
     ]
    }
   ],
   "source": [
    "# Built-in functions\n",
    "print(max)\n",
    "help(max)"
   ]
  },
  {
   "cell_type": "code",
   "execution_count": 14,
   "metadata": {},
   "outputs": [],
   "source": [
    "# User Defined Function\n",
    "# Syntax: def function_name():\n",
    "#             <CODE TO EXECUTE WHEN CALLED>\n",
    "\n",
    "# Creating a function\n",
    "def say_hello(): # defining the function\n",
    "    print('Hello')"
   ]
  },
  {
   "cell_type": "code",
   "execution_count": 15,
   "metadata": {},
   "outputs": [
    {
     "name": "stdout",
     "output_type": "stream",
     "text": [
      "<function say_hello at 0x0000015349329EE0>\n"
     ]
    }
   ],
   "source": [
    "print(say_hello)"
   ]
  },
  {
   "cell_type": "code",
   "execution_count": 16,
   "metadata": {},
   "outputs": [
    {
     "name": "stdout",
     "output_type": "stream",
     "text": [
      "Help on function say_hello in module __main__:\n",
      "\n",
      "say_hello()\n",
      "    # Creating a function\n",
      "\n"
     ]
    }
   ],
   "source": [
    "help(say_hello)"
   ]
  },
  {
   "cell_type": "code",
   "execution_count": 17,
   "metadata": {},
   "outputs": [
    {
     "name": "stdout",
     "output_type": "stream",
     "text": [
      "Hello\n"
     ]
    }
   ],
   "source": [
    "# Executing a function\n",
    "# Syntax: function_name()\n",
    "say_hello()"
   ]
  },
  {
   "cell_type": "markdown",
   "metadata": {},
   "source": [
    "##### Accepting Parameters"
   ]
  },
  {
   "cell_type": "code",
   "execution_count": 18,
   "metadata": {},
   "outputs": [
    {
     "name": "stdout",
     "output_type": "stream",
     "text": [
      "Hello Dillon Dains\n"
     ]
    }
   ],
   "source": [
    "# Syntax: def function_name(param1, param2):\n",
    "#             <CODE TO EXECUTE with variable param1 and param2>\n",
    "\n",
    "def say_hello_again(first, last): # first and last are parameters (aka placeholders)\n",
    "    print(f\"Hello {first} {last}\")\n",
    "\n",
    "    \n",
    "# Execute\n",
    "# Syntax: function_name(data1, data2)\n",
    "say_hello_again('Dillon', 'Dains') # Dillon and Dains are arguments (aka real data)"
   ]
  },
  {
   "cell_type": "code",
   "execution_count": 19,
   "metadata": {},
   "outputs": [
    {
     "name": "stdout",
     "output_type": "stream",
     "text": [
      "Hello Chris Potter\n"
     ]
    }
   ],
   "source": [
    "# position matters!\n",
    "say_hello_again('Chris', 'Potter')"
   ]
  },
  {
   "cell_type": "markdown",
   "metadata": {},
   "source": [
    "##### Passing in variables as parameters"
   ]
  },
  {
   "cell_type": "code",
   "execution_count": 20,
   "metadata": {},
   "outputs": [],
   "source": [
    "city1 = 'Boston'\n",
    "state1 = 'MA'\n",
    "zip_code1 = '02134'\n",
    "\n",
    "city2 = 'New York'\n",
    "state2 = 'NY'\n",
    "zip_code2 = '12045'"
   ]
  },
  {
   "cell_type": "code",
   "execution_count": 21,
   "metadata": {},
   "outputs": [],
   "source": [
    "# write a function that will accept a city name, state abbr, and zip code and format it -> City, State -- Zip Code\n",
    "\n",
    "def format_address(city_name, state_code, zip_code):\n",
    "    print(f'{city_name.title()}, {state_code.upper()} -- {zip_code}')"
   ]
  },
  {
   "cell_type": "code",
   "execution_count": 22,
   "metadata": {},
   "outputs": [
    {
     "name": "stdout",
     "output_type": "stream",
     "text": [
      "Chicago, IL -- 60606\n"
     ]
    }
   ],
   "source": [
    "format_address('chicago', 'il','60606')"
   ]
  },
  {
   "cell_type": "code",
   "execution_count": 23,
   "metadata": {},
   "outputs": [
    {
     "name": "stdout",
     "output_type": "stream",
     "text": [
      "Boston, MA -- 02134\n"
     ]
    }
   ],
   "source": [
    "format_address(city1, state1, zip_code1)"
   ]
  },
  {
   "cell_type": "code",
   "execution_count": 24,
   "metadata": {},
   "outputs": [
    {
     "name": "stdout",
     "output_type": "stream",
     "text": [
      "New York, NY -- 12045\n"
     ]
    }
   ],
   "source": [
    "format_address(city2, state2, zip_code2)"
   ]
  },
  {
   "cell_type": "code",
   "execution_count": 25,
   "metadata": {},
   "outputs": [
    {
     "name": "stdout",
     "output_type": "stream",
     "text": [
      "Los Angeles, CA -- 98343\n"
     ]
    }
   ],
   "source": [
    "city_name = 'Los Angeles'\n",
    "state_code = 'CA'\n",
    "zip_code = '98343'\n",
    "\n",
    "format_address(city_name, state_code, zip_code) # city_name, state_code, and zip_code are arguments! (happen to match the parameters)"
   ]
  },
  {
   "cell_type": "code",
   "execution_count": 26,
   "metadata": {},
   "outputs": [],
   "source": [
    "# In Practice:\n",
    "\n",
    "def main():\n",
    "    print('This is an address formatter program...')\n",
    "    keep_going = True\n",
    "    while keep_going:\n",
    "        city = input('In which city do you live?')\n",
    "        state = input(f'What is the state code for {city.title()}?')\n",
    "        zip_code = input('What is the zip code?')\n",
    "        format_address(city, state, zip_code)\n",
    "        response = input('Would you like to format another address? Type \"no\" to quit ').lower()\n",
    "        if response == 'no':\n",
    "            keep_going = False\n",
    "    print('Thank you for using our address formatter :')"
   ]
  },
  {
   "cell_type": "code",
   "execution_count": 27,
   "metadata": {},
   "outputs": [
    {
     "name": "stdout",
     "output_type": "stream",
     "text": [
      "This is an address formatter program...\n",
      "1, 13 -- 5\n",
      "5, 5 -- 5\n",
      "5, 5 -- 5\n",
      "Thank you for using our address formatter :\n"
     ]
    }
   ],
   "source": [
    "# Execute the main() function\n",
    "\n",
    "main()\n"
   ]
  },
  {
   "cell_type": "markdown",
   "metadata": {},
   "source": [
    "##### Keyword Arguments"
   ]
  },
  {
   "cell_type": "code",
   "execution_count": 28,
   "metadata": {},
   "outputs": [],
   "source": [
    "# Function for making a payment to a loan\n",
    "\n",
    "def make_a_payment(total_amount_due, amount_paid, account_number):\n",
    "    new_total = total_amount_due - amount_paid\n",
    "    print(f'You have made a payment of ${amount_paid} to Account #{account_number}')\n",
    "    print(f'Your new total is ${new_total}')\n",
    "    print('Thank you for your payment')\n"
   ]
  },
  {
   "cell_type": "code",
   "execution_count": 29,
   "metadata": {},
   "outputs": [
    {
     "name": "stdout",
     "output_type": "stream",
     "text": [
      "You have made a payment of $100 to Account #987234\n",
      "Your new total is $900\n",
      "Thank you for your payment\n"
     ]
    }
   ],
   "source": [
    "make_a_payment(1000, 100, '987234')"
   ]
  },
  {
   "cell_type": "code",
   "execution_count": 30,
   "metadata": {},
   "outputs": [
    {
     "name": "stdout",
     "output_type": "stream",
     "text": [
      "You have made a payment of $200 to Account #98734987\n",
      "Your new total is $1300\n",
      "Thank you for your payment\n"
     ]
    }
   ],
   "source": [
    "# keyword arguments\n",
    "#function_name(param_name1=arg1, param_name2=arg2, etc)\n",
    "\n",
    "make_a_payment(amount_paid=200, account_number='98734987', total_amount_due=1500)\n",
    "# make_a_payment(200, '994694057', 1500) # without keywords, will default to positional argument"
   ]
  },
  {
   "cell_type": "code",
   "execution_count": 31,
   "metadata": {},
   "outputs": [
    {
     "name": "stdout",
     "output_type": "stream",
     "text": [
      "You have made a payment of $500 to Account #479307502\n",
      "Your new total is $4500\n",
      "Thank you for your payment\n"
     ]
    }
   ],
   "source": [
    "# Combination of postional and keyword arguments -> ALL keyword arguments must come AFTER positional\n",
    "\n",
    "make_a_payment(5000, account_number='479307502', amount_paid=500)"
   ]
  },
  {
   "cell_type": "markdown",
   "metadata": {},
   "source": [
    "##### Default Parameters"
   ]
  },
  {
   "cell_type": "code",
   "execution_count": 32,
   "metadata": {
    "scrolled": true
   },
   "outputs": [],
   "source": [
    "# def function_name(pos_param1, pos_param2, default_param1=default_value1, default_param2 = default_value2, etc):\n",
    "#   <Code for function goes here>\n",
    "\n",
    "# Default parameters need to be AFTER any non-default params\n",
    "\n",
    "def make_a_burger(customer_name, cheese=True, lettuce=True, tomato=True, onions='', bacon=0):\n",
    "    total_price = 4.50\n",
    "    receipt = f'Thank you {customer_name}. Here is your receipt:\\n'\n",
    "    receipt += '1 Hamburger\\n'\n",
    "    if cheese:\n",
    "        receipt += '\\twith cheese\\n'\n",
    "    if lettuce:\n",
    "        receipt += '\\twith lettuce\\n'\n",
    "    if tomato:\n",
    "        receipt +='\\twith tomato\\n'\n",
    "    if onions:\n",
    "        receipt += f'\\twith {onions} onions\\n'\n",
    "    if bacon:\n",
    "        receipt += f'\\twith {bacon} pieces of bacon\\n'\n",
    "        total_price += .75*bacon\n",
    "    receipt += f'Total: ${total_price:.2f}'\n",
    "    print(receipt)"
   ]
  },
  {
   "cell_type": "code",
   "execution_count": 33,
   "metadata": {},
   "outputs": [
    {
     "name": "stdout",
     "output_type": "stream",
     "text": [
      "Thank you Dillon. Here is your receipt:\n",
      "1 Hamburger\n",
      "\twith cheese\n",
      "\twith lettuce\n",
      "\twith tomato\n",
      "Total: $4.50\n"
     ]
    }
   ],
   "source": [
    "make_a_burger('Dillon')"
   ]
  },
  {
   "cell_type": "code",
   "execution_count": 34,
   "metadata": {},
   "outputs": [
    {
     "name": "stdout",
     "output_type": "stream",
     "text": [
      "Thank you Ed. Here is your receipt:\n",
      "1 Hamburger\n",
      "\twith lettuce\n",
      "\twith tomato\n",
      "Total: $4.50\n"
     ]
    }
   ],
   "source": [
    "make_a_burger('Ed', False,)"
   ]
  },
  {
   "cell_type": "code",
   "execution_count": 35,
   "metadata": {},
   "outputs": [
    {
     "name": "stdout",
     "output_type": "stream",
     "text": [
      "Thank you Billy. Here is your receipt:\n",
      "1 Hamburger\n",
      "\twith cheese\n",
      "\twith lettuce\n",
      "\twith tomato\n",
      "\twith 2 pieces of bacon\n",
      "Total: $6.00\n"
     ]
    }
   ],
   "source": [
    "make_a_burger('Billy', True, True, True, '', 2)"
   ]
  },
  {
   "cell_type": "code",
   "execution_count": 36,
   "metadata": {},
   "outputs": [
    {
     "name": "stdout",
     "output_type": "stream",
     "text": [
      "Thank you Billy. Here is your receipt:\n",
      "1 Hamburger\n",
      "\twith cheese\n",
      "\twith lettuce\n",
      "\twith tomato\n",
      "\twith 2 pieces of bacon\n",
      "Total: $6.00\n"
     ]
    }
   ],
   "source": [
    "make_a_burger('Billy', bacon=2)"
   ]
  },
  {
   "cell_type": "code",
   "execution_count": 37,
   "metadata": {},
   "outputs": [
    {
     "name": "stdout",
     "output_type": "stream",
     "text": [
      "Thank you Cotner. Here is your receipt:\n",
      "1 Hamburger\n",
      "\twith cheese\n",
      "\twith lettuce\n",
      "\twith grilled onions\n",
      "\twith 1 pieces of bacon\n",
      "Total: $5.25\n"
     ]
    }
   ],
   "source": [
    "make_a_burger('Cotner', bacon=1, onions='grilled', tomato=False)"
   ]
  },
  {
   "cell_type": "code",
   "execution_count": 38,
   "metadata": {},
   "outputs": [],
   "source": [
    "# Error (dangit Bush!)\n",
    "# make_a_burger('Bush', ketchup = True)"
   ]
  },
  {
   "cell_type": "markdown",
   "metadata": {},
   "source": [
    "##### \\*args and **kwargs"
   ]
  },
  {
   "cell_type": "code",
   "execution_count": 39,
   "metadata": {},
   "outputs": [
    {
     "name": "stdout",
     "output_type": "stream",
     "text": [
      "Help on built-in function min in module builtins:\n",
      "\n",
      "min(...)\n",
      "    min(iterable, *[, default=obj, key=func]) -> value\n",
      "    min(arg1, arg2, *args, *[, key=func]) -> value\n",
      "\n",
      "    With a single iterable argument, return its smallest item. The\n",
      "    default keyword-only argument specifies an object to return if\n",
      "    the provided iterable is empty.\n",
      "    With two or more arguments, return the smallest argument.\n",
      "\n"
     ]
    }
   ],
   "source": [
    "help(min)"
   ]
  },
  {
   "cell_type": "code",
   "execution_count": 40,
   "metadata": {
    "scrolled": true
   },
   "outputs": [
    {
     "data": {
      "text/plain": [
       "0"
      ]
     },
     "execution_count": 40,
     "metadata": {},
     "output_type": "execute_result"
    }
   ],
   "source": [
    "min(10,5,6,2,6,0)"
   ]
  },
  {
   "cell_type": "code",
   "execution_count": 41,
   "metadata": {},
   "outputs": [
    {
     "ename": "TypeError",
     "evalue": "my_min() takes 2 positional arguments but 3 were given",
     "output_type": "error",
     "traceback": [
      "\u001b[1;31m---------------------------------------------------------------------------\u001b[0m",
      "\u001b[1;31mTypeError\u001b[0m                                 Traceback (most recent call last)",
      "Cell \u001b[1;32mIn[41], line 7\u001b[0m\n\u001b[0;32m      4\u001b[0m     \u001b[38;5;28;01melse\u001b[39;00m:\n\u001b[0;32m      5\u001b[0m         \u001b[38;5;28mprint\u001b[39m(arg2)\n\u001b[1;32m----> 7\u001b[0m \u001b[43mmy_min\u001b[49m\u001b[43m(\u001b[49m\u001b[38;5;241;43m10\u001b[39;49m\u001b[43m,\u001b[49m\u001b[38;5;241;43m5\u001b[39;49m\u001b[43m,\u001b[49m\u001b[38;5;241;43m3\u001b[39;49m\u001b[43m)\u001b[49m\n",
      "\u001b[1;31mTypeError\u001b[0m: my_min() takes 2 positional arguments but 3 were given"
     ]
    }
   ],
   "source": [
    "def my_min(arg1, arg2):\n",
    "    if arg1 < arg2:\n",
    "        print(arg1)\n",
    "    else:\n",
    "        print(arg2)\n",
    "\n",
    "my_min(10,5,3)"
   ]
  },
  {
   "cell_type": "code",
   "execution_count": null,
   "metadata": {},
   "outputs": [
    {
     "name": "stdout",
     "output_type": "stream",
     "text": [
      "Arg1: 1\n",
      "Args: (2, 3, 6) <class 'tuple'>\n"
     ]
    }
   ],
   "source": [
    "def my_function(arg1, *args):\n",
    "    print('Arg1:', arg1)\n",
    "    print('Args:', args, type(args))\n",
    "\n",
    "my_function(1,2,3,6)"
   ]
  },
  {
   "cell_type": "code",
   "execution_count": null,
   "metadata": {},
   "outputs": [
    {
     "name": "stdout",
     "output_type": "stream",
     "text": [
      "(1, 2, 3, 6, 76, 2, 78, 9)\n",
      "22.125\n"
     ]
    }
   ],
   "source": [
    "# It is actually the asterisk (*) that tells python that these are optional arguments\n",
    "def average(*numbers):\n",
    "    print(numbers)\n",
    "    total = 0\n",
    "    for num in numbers:\n",
    "        total += num\n",
    "    print(total/len(numbers))\n",
    "\n",
    "average(1,2,3,6,76,2,78,9)"
   ]
  },
  {
   "cell_type": "code",
   "execution_count": null,
   "metadata": {},
   "outputs": [
    {
     "name": "stdout",
     "output_type": "stream",
     "text": [
      "{'name': 'Dillon', 'ketchup': True, 'colors': ['orange', 'blue', 'green'], 'age': 22}\n",
      "<class 'dict'>\n"
     ]
    }
   ],
   "source": [
    "def another_function(**kwargs):\n",
    "    print(kwargs)\n",
    "    print(type(kwargs))\n",
    "\n",
    "another_function(name='Dillon', ketchup=True, colors=['orange', 'blue', 'green'], age=22,)"
   ]
  },
  {
   "cell_type": "code",
   "execution_count": null,
   "metadata": {},
   "outputs": [],
   "source": [
    "# order of parameters -> positional, optional, default, keyword optional\n",
    "\n",
    "def everything(arg1, arg2, *args, default='Hello', **kwargs):\n",
    "    print('arg1:', arg1)\n",
    "    print('arg2:', arg2)\n",
    "    print('args:', args)\n",
    "    print('default:', default)\n",
    "    print('kwargs:', kwargs)"
   ]
  },
  {
   "cell_type": "code",
   "execution_count": null,
   "metadata": {},
   "outputs": [
    {
     "name": "stdout",
     "output_type": "stream",
     "text": [
      "arg1: A\n",
      "arg2: B\n",
      "args: ('C', 'D', 'E')\n",
      "default: goodbye\n",
      "kwargs: {'key': 'value', 'name': 'Dillon'}\n"
     ]
    }
   ],
   "source": [
    "everything('A', 'B', 'C', 'D', 'E', key='value', name='Dillon', default='goodbye')"
   ]
  },
  {
   "cell_type": "markdown",
   "metadata": {},
   "source": [
    "#### In Class Exercise 1"
   ]
  },
  {
   "cell_type": "markdown",
   "metadata": {},
   "source": [
    "Create a function that takes in a color, make, and model and formats it into a string.<br>\n",
    "Then loop over the cars list and apply the function to each element.<br>\n",
    "Expected Output:<br>\n",
    "<code>Blue Toyota Tundra\n",
    "Green Chevy Silverado\n",
    "Pink Ford F-150</code>\n"
   ]
  },
  {
   "cell_type": "code",
   "execution_count": null,
   "metadata": {},
   "outputs": [],
   "source": [
    "cars = [('blue', 'toyota', 'tundra'), ('green', 'chevy', 'silverado'), ('pink', 'ford', 'f-150')]\n"
   ]
  },
  {
   "cell_type": "code",
   "execution_count": null,
   "metadata": {},
   "outputs": [
    {
     "name": "stdout",
     "output_type": "stream",
     "text": [
      "Yellow Ford Focus\n"
     ]
    }
   ],
   "source": [
    "def car_info(color, make, model):\n",
    "    print(f'{color} {make} {model}'.title())\n",
    "\n",
    "car_info('yellow', 'ford', 'focus')"
   ]
  },
  {
   "cell_type": "code",
   "execution_count": null,
   "metadata": {},
   "outputs": [
    {
     "name": "stdout",
     "output_type": "stream",
     "text": [
      "Blue Toyota Tundra\n",
      "Green Chevy Silverado\n",
      "Pink Ford F-150\n"
     ]
    }
   ],
   "source": [
    "for car in cars:\n",
    "    car_info(car[0], car[1], car[2])"
   ]
  },
  {
   "cell_type": "code",
   "execution_count": null,
   "metadata": {},
   "outputs": [
    {
     "name": "stdout",
     "output_type": "stream",
     "text": [
      "Color red\n",
      "Make ford\n",
      "Model mustang\n"
     ]
    }
   ],
   "source": [
    "my_car = ('red', 'ford', 'mustang')\n",
    "\n",
    "col, mk, md = my_car\n",
    "\n",
    "print('Color', col)\n",
    "print('Make', mk)\n",
    "print('Model', md)"
   ]
  },
  {
   "cell_type": "code",
   "execution_count": null,
   "metadata": {},
   "outputs": [
    {
     "name": "stdout",
     "output_type": "stream",
     "text": [
      "Blue Toyota Tundra\n",
      "Green Chevy Silverado\n",
      "Pink Ford F-150\n"
     ]
    }
   ],
   "source": [
    "for col, mk, md in cars:\n",
    "    car_info(col, mk, md)"
   ]
  },
  {
   "cell_type": "code",
   "execution_count": null,
   "metadata": {},
   "outputs": [
    {
     "name": "stdout",
     "output_type": "stream",
     "text": [
      "('2021', 'new', 'blue', 'chevy', 'tahoe', 'w/ 4WD')\n",
      "2021 New Blue Chevy Tahoe W/ 4Wd\n"
     ]
    }
   ],
   "source": [
    "def format_car_args(*args):\n",
    "    print(args)\n",
    "    print(' '.join(args).title())\n",
    "\n",
    "format_car_args('2021', 'new', 'blue', 'chevy', 'tahoe', 'w/ 4WD')"
   ]
  },
  {
   "cell_type": "code",
   "execution_count": null,
   "metadata": {},
   "outputs": [
    {
     "name": "stdout",
     "output_type": "stream",
     "text": [
      "Green Toyota Camry Used\n"
     ]
    }
   ],
   "source": [
    "my_car = ('green', 'toyota', 'camry', 'used')\n",
    "\n",
    "format_car_args(*my_car)"
   ]
  },
  {
   "cell_type": "markdown",
   "metadata": {},
   "source": [
    "## Scope <br>\n",
    "<p>Scope refers to the ability to access variables, different types of scope include:<br>a) Global<br>b) Function (local)<br>c) Class (local)</p>"
   ]
  },
  {
   "cell_type": "code",
   "execution_count": null,
   "metadata": {},
   "outputs": [
    {
     "name": "stdout",
     "output_type": "stream",
     "text": [
      "Dillon has been assigned to Mr. Haskins's class\n",
      "Ms. Buttercup\n"
     ]
    }
   ],
   "source": [
    "teacher = 'Ms. Buttercup' # global variable\n",
    "\n",
    "def assign_student(student_name): # student_name is a local variable (function)\n",
    "    teacher = 'Mr. Haskins'\n",
    "    print(f\"{student_name} has been assigned to {teacher}'s class\")\n",
    "\n",
    "assign_student('Dillon')\n",
    "print(teacher)\n",
    "# print(student_name) # NameError: name 'student_name' is not defined"
   ]
  },
  {
   "cell_type": "code",
   "execution_count": null,
   "metadata": {},
   "outputs": [],
   "source": [
    "evens_only = [] # Define flobal variable evens_only\n",
    "\n",
    "def get_evens(list_of_numbers):\n",
    "    evens_only = [] # Define local variable evens_only\n",
    "    # Loop through each number in the list of numbers\n",
    "    for num in list_of_numbers:\n",
    "        # Check if the num is even (aka is divisible by 2)\n",
    "        if num % 2 == 0:\n",
    "            # Add the even num to an evens_only list\n",
    "            evens_only.append(num)\n",
    "    # Once we loop through every number in the list, print the evens only list\n",
    "    print(evens_only)\n"
   ]
  },
  {
   "cell_type": "code",
   "execution_count": null,
   "metadata": {},
   "outputs": [
    {
     "name": "stdout",
     "output_type": "stream",
     "text": [
      "[2, 4, 6, 8, 10]\n"
     ]
    }
   ],
   "source": [
    "get_evens([1, 2, 3, 4, 5, 6, 7 ,8 ,9, 10])"
   ]
  },
  {
   "cell_type": "code",
   "execution_count": null,
   "metadata": {},
   "outputs": [
    {
     "name": "stdout",
     "output_type": "stream",
     "text": [
      "[10, 20, 30, 40, 50]\n"
     ]
    }
   ],
   "source": [
    "get_evens([10, 15, 20, 25, 30, 35, 40, 45, 50])"
   ]
  },
  {
   "cell_type": "code",
   "execution_count": null,
   "metadata": {},
   "outputs": [
    {
     "name": "stdout",
     "output_type": "stream",
     "text": [
      "['a', 'b', 'c', 'd']\n"
     ]
    }
   ],
   "source": [
    "my_list = ['a', 'b', 'c'] \n",
    "my_list.append('d') # .append is a method which is a function scoped to a class\n",
    "print(my_list)"
   ]
  },
  {
   "cell_type": "code",
   "execution_count": null,
   "metadata": {},
   "outputs": [
    {
     "name": "stdout",
     "output_type": "stream",
     "text": [
      "[2, 99, 8, 29, 90, 75, 72, 55, 40, 6, 19, 21, 10, 19, 43, 85, 1, 100, 8, 84]\n"
     ]
    }
   ],
   "source": [
    "from random import randint\n",
    "\n",
    "randoms = [randint(1,100) for _ in range(20)]\n",
    "print(randoms)"
   ]
  },
  {
   "cell_type": "code",
   "execution_count": null,
   "metadata": {},
   "outputs": [
    {
     "name": "stdout",
     "output_type": "stream",
     "text": [
      "[2, 8, 90, 72, 40, 6, 10, 100, 8, 84]\n",
      "None\n"
     ]
    },
    {
     "ename": "TypeError",
     "evalue": "'NoneType' object is not iterable",
     "output_type": "error",
     "traceback": [
      "\u001b[1;31m---------------------------------------------------------------------------\u001b[0m",
      "\u001b[1;31mTypeError\u001b[0m                                 Traceback (most recent call last)",
      "Cell \u001b[1;32mIn[135], line 6\u001b[0m\n\u001b[0;32m      2\u001b[0m evens \u001b[38;5;241m=\u001b[39m get_evens(randoms)\n\u001b[0;32m      4\u001b[0m \u001b[38;5;28mprint\u001b[39m(evens)\n\u001b[1;32m----> 6\u001b[0m \u001b[38;5;28;43;01mfor\u001b[39;49;00m\u001b[43m \u001b[49m\u001b[43mnum\u001b[49m\u001b[43m \u001b[49m\u001b[38;5;129;43;01min\u001b[39;49;00m\u001b[43m \u001b[49m\u001b[43mevens\u001b[49m\u001b[43m:\u001b[49m\n\u001b[0;32m      7\u001b[0m \u001b[43m    \u001b[49m\u001b[38;5;28;43mprint\u001b[39;49m\u001b[43m(\u001b[49m\u001b[43mnum\u001b[49m\u001b[38;5;241;43m*\u001b[39;49m\u001b[38;5;241;43m*\u001b[39;49m\u001b[38;5;241;43m2\u001b[39;49m\u001b[43m)\u001b[49m\n",
      "\u001b[1;31mTypeError\u001b[0m: 'NoneType' object is not iterable"
     ]
    }
   ],
   "source": [
    "# Get all even numbers in the randoms list and then square each even number\n",
    "evens = get_evens(randoms)\n",
    "\n",
    "print(evens)\n",
    "\n",
    "for num in evens:\n",
    "    print(num**2)"
   ]
  },
  {
   "cell_type": "markdown",
   "metadata": {},
   "source": [
    "##### Returning Values"
   ]
  },
  {
   "cell_type": "code",
   "execution_count": null,
   "metadata": {},
   "outputs": [
    {
     "name": "stdout",
     "output_type": "stream",
     "text": [
      "10\n"
     ]
    }
   ],
   "source": [
    "# Mathematical Function - y = f(x)\n",
    "# Where f is the function, x is the input(s), and y is the dependent variable (or the return variable)\n",
    "\n",
    "def f(x):\n",
    "    return x*2\n",
    "\n",
    "y = f(5)\n",
    "print(y)"
   ]
  },
  {
   "cell_type": "code",
   "execution_count": null,
   "metadata": {},
   "outputs": [
    {
     "name": "stdout",
     "output_type": "stream",
     "text": [
      "20\n",
      "400\n"
     ]
    }
   ],
   "source": [
    "z = f(10)\n",
    "print(z)\n",
    "print(z**2)"
   ]
  },
  {
   "cell_type": "code",
   "execution_count": null,
   "metadata": {
    "scrolled": true
   },
   "outputs": [
    {
     "data": {
      "text/plain": [
       "0"
      ]
     },
     "execution_count": 142,
     "metadata": {},
     "output_type": "execute_result"
    }
   ],
   "source": [
    "# Return will also immediately terminate the function\n",
    "\n",
    "def early_return(n):\n",
    "    for i in range(n):\n",
    "        return i\n",
    "\n",
    "early_return(100)"
   ]
  },
  {
   "cell_type": "code",
   "execution_count": null,
   "metadata": {},
   "outputs": [
    {
     "name": "stdout",
     "output_type": "stream",
     "text": [
      "Function started...\n",
      "0\n",
      "1\n",
      "2\n",
      "3\n",
      "4\n"
     ]
    },
    {
     "data": {
      "text/plain": [
       "5"
      ]
     },
     "execution_count": 143,
     "metadata": {},
     "output_type": "execute_result"
    }
   ],
   "source": [
    "def another_early(n):\n",
    "    print('Function started...')\n",
    "    for i in range(n):\n",
    "        if i == 5:\n",
    "            return i\n",
    "        print(i)\n",
    "    print('Function finished...')\n",
    "\n",
    "another_early(10)"
   ]
  },
  {
   "cell_type": "markdown",
   "metadata": {},
   "source": [
    "#### Multiple returns in a function"
   ]
  },
  {
   "cell_type": "code",
   "execution_count": null,
   "metadata": {},
   "outputs": [],
   "source": [
    "names = ['Brian', 'Travis', 'Sarah', 'Kevin', 'Brandt', 'Shoha', 'Alex']\n",
    "\n",
    "# Write a function that will return the index of the name or false if the name is not in the list\n",
    "\n",
    "def get_index(person_name):\n",
    "    # Check if the person_name is in the global names list\n",
    "    if person_name not in names:\n",
    "        return False\n",
    "    else:\n",
    "        person_index = names.index(person_name)\n",
    "        return person_index\n",
    "    "
   ]
  },
  {
   "cell_type": "code",
   "execution_count": null,
   "metadata": {},
   "outputs": [
    {
     "data": {
      "text/plain": [
       "2"
      ]
     },
     "execution_count": 145,
     "metadata": {},
     "output_type": "execute_result"
    }
   ],
   "source": [
    "get_index('Sarah')"
   ]
  },
  {
   "cell_type": "code",
   "execution_count": null,
   "metadata": {},
   "outputs": [
    {
     "data": {
      "text/plain": [
       "False"
      ]
     },
     "execution_count": 146,
     "metadata": {},
     "output_type": "execute_result"
    }
   ],
   "source": [
    "get_index('David')"
   ]
  },
  {
   "cell_type": "code",
   "execution_count": null,
   "metadata": {},
   "outputs": [
    {
     "name": "stdout",
     "output_type": "stream",
     "text": [
      "True\n"
     ]
    }
   ],
   "source": [
    "def can_vote(birth_year):\n",
    "    if 2024 - birth_year >= 18:\n",
    "        return True\n",
    "    return False\n",
    "\n",
    "# print(can_vote(2010))\n",
    "print(can_vote(2000))"
   ]
  },
  {
   "cell_type": "code",
   "execution_count": null,
   "metadata": {},
   "outputs": [
    {
     "name": "stdout",
     "output_type": "stream",
     "text": [
      "True\n",
      "False\n",
      "None\n"
     ]
    }
   ],
   "source": [
    "def can_vote2(birth_year):\n",
    "    if 2024 - birth_year >= 18:\n",
    "        print(True)\n",
    "    print(False)\n",
    "\n",
    "# print(can_vote2(2010))\n",
    "print(can_vote2(2000))"
   ]
  },
  {
   "cell_type": "markdown",
   "metadata": {},
   "source": [
    "##### Difference between `return` and `print`"
   ]
  },
  {
   "cell_type": "code",
   "execution_count": null,
   "metadata": {},
   "outputs": [],
   "source": [
    "def max_score(*scores):\n",
    "    current_max = 0\n",
    "    for score in scores:\n",
    "        if score > current_max:\n",
    "            current_max = score\n",
    "    print(current_max)"
   ]
  },
  {
   "cell_type": "code",
   "execution_count": null,
   "metadata": {},
   "outputs": [
    {
     "name": "stdout",
     "output_type": "stream",
     "text": [
      "100\n"
     ]
    }
   ],
   "source": [
    "max_score(98, 94, 99, 87, 80, 83, 85, 100, 98, 89, 87)"
   ]
  },
  {
   "cell_type": "code",
   "execution_count": null,
   "metadata": {},
   "outputs": [],
   "source": [
    "def score_calculator():\n",
    "    score = []\n",
    "    while True:\n",
    "        score = input('Please enter a score or enter \"done\" when done. ').lower()\n",
    "        if score == 'done':\n",
    "            break\n",
    "        scores.append(int(score))\n",
    "\n",
    "    top_score = max_score(*scores)\n",
    "    if top_score > 90:\n",
    "        print(f'Congrats to the new world record score of {top_score}!!')\n",
    "    else:\n",
    "        print(f\"Congrats to the winner with a top score of {top_score}!\")\n"
   ]
  },
  {
   "cell_type": "code",
   "execution_count": null,
   "metadata": {},
   "outputs": [
    {
     "ename": "NameError",
     "evalue": "name 'scores' is not defined",
     "output_type": "error",
     "traceback": [
      "\u001b[1;31m---------------------------------------------------------------------------\u001b[0m",
      "\u001b[1;31mNameError\u001b[0m                                 Traceback (most recent call last)",
      "Cell \u001b[1;32mIn[9], line 1\u001b[0m\n\u001b[1;32m----> 1\u001b[0m \u001b[43mscore_calculator\u001b[49m\u001b[43m(\u001b[49m\u001b[43m)\u001b[49m\n",
      "Cell \u001b[1;32mIn[8], line 7\u001b[0m, in \u001b[0;36mscore_calculator\u001b[1;34m()\u001b[0m\n\u001b[0;32m      5\u001b[0m     \u001b[38;5;28;01mif\u001b[39;00m score \u001b[38;5;241m==\u001b[39m \u001b[38;5;124m'\u001b[39m\u001b[38;5;124mdone\u001b[39m\u001b[38;5;124m'\u001b[39m:\n\u001b[0;32m      6\u001b[0m         \u001b[38;5;28;01mbreak\u001b[39;00m\n\u001b[1;32m----> 7\u001b[0m     \u001b[43mscores\u001b[49m\u001b[38;5;241m.\u001b[39mappend(\u001b[38;5;28mint\u001b[39m(score))\n\u001b[0;32m      9\u001b[0m top_score \u001b[38;5;241m=\u001b[39m max_score(\u001b[38;5;241m*\u001b[39mscores)\n\u001b[0;32m     10\u001b[0m \u001b[38;5;28;01mif\u001b[39;00m top_score \u001b[38;5;241m>\u001b[39m \u001b[38;5;241m90\u001b[39m:\n",
      "\u001b[1;31mNameError\u001b[0m: name 'scores' is not defined"
     ]
    }
   ],
   "source": [
    "score_calculator()"
   ]
  },
  {
   "cell_type": "markdown",
   "metadata": {},
   "source": [
    "#### Functions with Lists"
   ]
  },
  {
   "cell_type": "code",
   "execution_count": 46,
   "metadata": {},
   "outputs": [],
   "source": [
    "# Cleaning the band names from the warmup\n",
    "def clean_band_names(band_names):\n",
    "    clean_bands = [band.strip(' ,.').title() for band in band_names]\n",
    "    return clean_bands"
   ]
  },
  {
   "cell_type": "code",
   "execution_count": 47,
   "metadata": {},
   "outputs": [
    {
     "name": "stdout",
     "output_type": "stream",
     "text": [
      "['The Beatles', 'The Rolling Stones', 'The Eagles', 'The Temptations']\n"
     ]
    }
   ],
   "source": [
    "clean1 = clean_band_names(bands)\n",
    "print(clean1)"
   ]
  },
  {
   "cell_type": "code",
   "execution_count": 48,
   "metadata": {},
   "outputs": [
    {
     "name": "stdout",
     "output_type": "stream",
     "text": [
      "['The Who', 'The Doors', 'The Band', 'The Kinks']\n"
     ]
    }
   ],
   "source": [
    "clean2 = clean_band_names(bands2)\n",
    "print(clean2)"
   ]
  },
  {
   "cell_type": "code",
   "execution_count": 49,
   "metadata": {},
   "outputs": [
    {
     "name": "stdout",
     "output_type": "stream",
     "text": [
      "['The Monkees', 'The Mamas & The Papas']\n"
     ]
    }
   ],
   "source": [
    "clean3 = clean_band_names(['   ,.thE monKEes,,,', '   . .THe MaMAS & thE PapAs....'])\n",
    "print(clean3)"
   ]
  },
  {
   "cell_type": "markdown",
   "metadata": {},
   "source": [
    "#### In-Class Exercise 2"
   ]
  },
  {
   "cell_type": "markdown",
   "metadata": {},
   "source": [
    "Create a function that takes in the list of tuples ('city', 'country') and a country name and returns a list of the cities in that country"
   ]
  },
  {
   "cell_type": "code",
   "execution_count": 53,
   "metadata": {},
   "outputs": [
    {
     "name": "stdout",
     "output_type": "stream",
     "text": [
      "['London', 'Manchester']\n"
     ]
    }
   ],
   "source": [
    "euro_cities = [\n",
    "    (\"London\", \"England\"), \n",
    "    (\"Manchester\", \"England\"), \n",
    "    (\"Barcelona\", \"Spain\"), \n",
    "    (\"Madrid\", \"Spain\"), \n",
    "    (\"Rome\", \"Italy\"), \n",
    "    (\"Florence\", \"Italy\")\n",
    "]\n",
    "\n",
    "nor_so_am_cities = [\n",
    "    ('Mexico City', 'Mexico'),\n",
    "    ('Buenos Aires', 'Argentina'),\n",
    "    ('Sao Paulo', 'Brazil'),\n",
    "    ('Santiago', 'Chile'),\n",
    "    ('Rio De Janeiro', 'Brazil')\n",
    "]\n",
    "\n",
    "\n",
    "\n",
    "def cities_in_country(list_of_tuples, country_name):\n",
    "    output = []\n",
    "    for cities in list_of_tuples:\n",
    "        if country_name == cities[1]:\n",
    "            output.append(cities[0])\n",
    "    return output\n",
    "\n",
    "print(cities_in_country(euro_cities, 'England'))\n",
    "\n",
    "\n"
   ]
  },
  {
   "cell_type": "code",
   "execution_count": 55,
   "metadata": {},
   "outputs": [
    {
     "name": "stdout",
     "output_type": "stream",
     "text": [
      "['Rome', 'Florence']\n",
      "['Barcelona', 'Madrid']\n",
      "['Sao Paulo', 'Rio De Janeiro']\n"
     ]
    }
   ],
   "source": [
    "print(cities_in_country(euro_cities, 'Italy')) # ['Rome', 'Florence']\n",
    "print(cities_in_country(euro_cities, 'Spain')) # ['Barcelona', 'Madrid']\n",
    "print(cities_in_country(nor_so_am_cities, 'Brazil')) # ['Sao Paolo', 'Rio De Janeiro']"
   ]
  },
  {
   "cell_type": "code",
   "execution_count": 56,
   "metadata": {},
   "outputs": [],
   "source": [
    "def cities_in_country(list_of_tuples, country_name):\n",
    "    list_of_cities = []\n",
    "    for index in range(len(list_of_tuples)):\n",
    "        if country_name == list_of_tuples[index][1]:\n",
    "            list_of_cities.append(list_of_tuples[index][0])\n",
    "    \n",
    "    return list_of_cities"
   ]
  },
  {
   "cell_type": "code",
   "execution_count": 57,
   "metadata": {},
   "outputs": [
    {
     "name": "stdout",
     "output_type": "stream",
     "text": [
      "['Rome', 'Florence']\n",
      "['Barcelona', 'Madrid']\n",
      "['Sao Paulo', 'Rio De Janeiro']\n"
     ]
    }
   ],
   "source": [
    "print(cities_in_country(euro_cities, 'Italy')) # ['Rome', 'Florence']\n",
    "print(cities_in_country(euro_cities, 'Spain')) # ['Barcelona', 'Madrid']\n",
    "print(cities_in_country(nor_so_am_cities, 'Brazil')) # ['Sao Paolo', 'Rio De Janeiro']"
   ]
  },
  {
   "cell_type": "code",
   "execution_count": 58,
   "metadata": {},
   "outputs": [],
   "source": [
    "def cities_in_country(list_of_tuples, country_name):\n",
    "    output = []\n",
    "    for city, country in list_of_tuples:\n",
    "        if country_name == country:\n",
    "            output.append(city)\n",
    "    return output"
   ]
  },
  {
   "cell_type": "code",
   "execution_count": 59,
   "metadata": {},
   "outputs": [
    {
     "name": "stdout",
     "output_type": "stream",
     "text": [
      "['Rome', 'Florence']\n",
      "['Barcelona', 'Madrid']\n",
      "['Sao Paulo', 'Rio De Janeiro']\n"
     ]
    }
   ],
   "source": [
    "print(cities_in_country(euro_cities, 'Italy')) # ['Rome', 'Florence']\n",
    "print(cities_in_country(euro_cities, 'Spain')) # ['Barcelona', 'Madrid']\n",
    "print(cities_in_country(nor_so_am_cities, 'Brazil')) # ['Sao Paolo', 'Rio De Janeiro']"
   ]
  },
  {
   "cell_type": "code",
   "execution_count": 60,
   "metadata": {},
   "outputs": [],
   "source": [
    "def cities_in_country2(tuples, country_name):\n",
    "    return[city for city, country in tuples if country == country_name]"
   ]
  },
  {
   "cell_type": "code",
   "execution_count": 61,
   "metadata": {},
   "outputs": [
    {
     "name": "stdout",
     "output_type": "stream",
     "text": [
      "['Rome', 'Florence']\n",
      "['Barcelona', 'Madrid']\n",
      "['Sao Paulo', 'Rio De Janeiro']\n"
     ]
    }
   ],
   "source": [
    "print(cities_in_country2(euro_cities, 'Italy')) # ['Rome', 'Florence']\n",
    "print(cities_in_country2(euro_cities, 'Spain')) # ['Barcelona', 'Madrid']\n",
    "print(cities_in_country2(nor_so_am_cities, 'Brazil')) # ['Sao Paolo', 'Rio De Janeiro']"
   ]
  },
  {
   "cell_type": "code",
   "execution_count": 67,
   "metadata": {},
   "outputs": [],
   "source": [
    "asian_cities = [\n",
    "    ('Tokyo', 'Japan'),\n",
    "    ('Beijing', 'China'),\n",
    "    ('Delhi', 'India'),\n",
    "    ('Shanghai', 'China'),\n",
    "    ('Mumbai', 'India'),\n",
    "    ('Osaka', 'Japan')    \n",
    "]"
   ]
  },
  {
   "cell_type": "code",
   "execution_count": 68,
   "metadata": {},
   "outputs": [
    {
     "data": {
      "text/plain": [
       "['Beijing', 'Shanghai']"
      ]
     },
     "execution_count": 68,
     "metadata": {},
     "output_type": "execute_result"
    }
   ],
   "source": [
    "cities_in_country2(asian_cities, 'China')"
   ]
  },
  {
   "cell_type": "markdown",
   "metadata": {},
   "source": [
    "#### Docstrings"
   ]
  },
  {
   "cell_type": "code",
   "execution_count": 62,
   "metadata": {},
   "outputs": [
    {
     "name": "stdout",
     "output_type": "stream",
     "text": [
      "Help on built-in function len in module builtins:\n",
      "\n",
      "len(obj, /)\n",
      "    Return the number of items in a container.\n",
      "\n"
     ]
    }
   ],
   "source": [
    "help(len)"
   ]
  },
  {
   "cell_type": "code",
   "execution_count": 63,
   "metadata": {},
   "outputs": [
    {
     "name": "stdout",
     "output_type": "stream",
     "text": [
      "Help on function cities_in_country2 in module __main__:\n",
      "\n",
      "cities_in_country2(tuples, country_name)\n",
      "\n"
     ]
    }
   ],
   "source": [
    "help(cities_in_country2)"
   ]
  },
  {
   "cell_type": "code",
   "execution_count": 65,
   "metadata": {},
   "outputs": [
    {
     "name": "stdout",
     "output_type": "stream",
     "text": [
      "Help on function add_nums in module __main__:\n",
      "\n",
      "add_nums(num1, num2)\n",
      "    add_nums takes in two number types (int or float) and will return the two added together\n",
      "    num1 -> int or float\n",
      "    num2 -> int or float\n",
      "    returns int or float\n",
      "\n"
     ]
    }
   ],
   "source": [
    "# A docstring is a string that is directly after our function definition, first line of the function's code block\n",
    "\n",
    "def add_nums(num1, num2):\n",
    "    '''\n",
    "    add_nums takes in two number types (int or float) and will return the two added together\n",
    "    num1 -> int or float\n",
    "    num2 -> int or float\n",
    "    returns int or float\n",
    "    '''\n",
    "    return num1 + num2\n",
    "\n",
    "help(add_nums)"
   ]
  },
  {
   "cell_type": "code",
   "execution_count": 66,
   "metadata": {},
   "outputs": [
    {
     "name": "stdout",
     "output_type": "stream",
     "text": [
      "30\n"
     ]
    }
   ],
   "source": [
    "total = add_nums(10,20)\n",
    "print(total)"
   ]
  }
 ],
 "metadata": {
  "kernelspec": {
   "display_name": "Python 3 (ipykernel)",
   "language": "python",
   "name": "python3"
  },
  "language_info": {
   "codemirror_mode": {
    "name": "ipython",
    "version": 3
   },
   "file_extension": ".py",
   "mimetype": "text/x-python",
   "name": "python",
   "nbconvert_exporter": "python",
   "pygments_lexer": "ipython3",
   "version": "3.12.1"
  }
 },
 "nbformat": 4,
 "nbformat_minor": 2
}
